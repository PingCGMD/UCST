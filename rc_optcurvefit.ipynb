{
 "cells": [
  {
   "cell_type": "code",
   "execution_count": 1,
   "id": "6c6c10bc",
   "metadata": {},
   "outputs": [],
   "source": [
    "import numpy as np\n",
    "from scipy import optimize\n",
    "import matplotlib.pyplot as plt"
   ]
  },
  {
   "cell_type": "code",
   "execution_count": 2,
   "id": "e37bbdac",
   "metadata": {},
   "outputs": [],
   "source": [
    "def f( x, p0, p1, p2):\n",
    "    return p0/(1+np.exp(-p1*(x-p2)))\n",
    "\n",
    "def ff(x, p):\n",
    "    return f(x, *p)"
   ]
  },
  {
   "cell_type": "code",
   "execution_count": 3,
   "id": "1025f7e5",
   "metadata": {},
   "outputs": [],
   "source": [
    "def fit_curvefit(p0, datax, datay, function, err_y, **kwargs):\n",
    "    pfit, pcov = optimize.curve_fit(f, datax, datay, p0=p0, sigma=err_y, epsfcn=0.0001, **kwargs)\n",
    "    error = [] \n",
    "    for i in range(len(pfit)):\n",
    "        try:\n",
    "          error.append(np.absolute(pcov[i][i])**0.5)\n",
    "        except:\n",
    "          error.append( 0.00 )\n",
    "    pfit_curvefit = pfit\n",
    "    perr_curvefit = np.array(error)\n",
    "    return pfit_curvefit, perr_curvefit "
   ]
  },
  {
   "cell_type": "code",
   "execution_count": 4,
   "id": "06423018",
   "metadata": {},
   "outputs": [],
   "source": [
    "xdata = [ 280, 300, 310, 340, 370]\n",
    "ydata = [ 20.74, 25.73, 30.44, 36.80, 41.52]\n",
    "y_err = [ 5.66, 8.26, 7.96, 8.91, 9.32]"
   ]
  },
  {
   "cell_type": "code",
   "execution_count": 5,
   "id": "96b47abe",
   "metadata": {},
   "outputs": [],
   "source": [
    "p0 = 50.0\n",
    "p1 = 0.02\n",
    "p2 = 300"
   ]
  },
  {
   "cell_type": "code",
   "execution_count": 6,
   "id": "30212290",
   "metadata": {},
   "outputs": [
    {
     "name": "stdout",
     "output_type": "stream",
     "text": [
      "\n",
      "# Fit parameters and parameter errors from curvefit method :\n",
      "pfit =  [4.62421601e+01 2.65734058e-02 2.88173268e+02]\n",
      "perr =  [3.06759550e+00 4.40409633e-03 5.24442127e+00]\n"
     ]
    }
   ],
   "source": [
    "pstart = [ p0, p1, p2]\n",
    "\n",
    "pfit, perr = fit_curvefit(pstart, xdata, ydata, ff, y_err)\n",
    "\n",
    "print(\"\\n# Fit parameters and parameter errors from curvefit method :\")\n",
    "print(\"pfit = \", pfit)\n",
    "print(\"perr = \", perr)"
   ]
  },
  {
   "cell_type": "code",
   "execution_count": 7,
   "id": "83125b0c",
   "metadata": {},
   "outputs": [
    {
     "data": {
      "text/plain": [
       "[<matplotlib.lines.Line2D at 0x7f6116882a30>]"
      ]
     },
     "execution_count": 7,
     "metadata": {},
     "output_type": "execute_result"
    },
    {
     "data": {
      "image/png": "[encoded data removed]",
      "text/plain": [
       "<Figure size 432x288 with 1 Axes>"
      ]
     },
     "metadata": {
      "needs_background": "light"
     },
     "output_type": "display_data"
    }
   ],
   "source": [
    "p3 = 46.2\n",
    "p4 = 0.0266\n",
    "p5 = 288.2\n",
    "\n",
    "xvals = np.linspace(200.0, 450.0, 100)\n",
    "yvals = f(xvals, p3, p4, p5)\n",
    "\n",
    "plt.plot(xdata, ydata, 'o', mfc='None')\n",
    "plt.plot(xvals, yvals)"
   ]
  },
  {
   "cell_type": "code",
   "execution_count": 8,
   "id": "32d4b1a9",
   "metadata": {},
   "outputs": [],
   "source": [
    "xdata = [ 280, 300, 310, 340, 370]\n",
    "ydata = [ 29.46, 41.04, 49.34, 61.27, 66.23]\n",
    "y_err = [ 10.31, 17.91, 16.63, 14.40, 13.57]"
   ]
  },
  {
   "cell_type": "code",
   "execution_count": 9,
   "id": "4c54a471",
   "metadata": {},
   "outputs": [],
   "source": [
    "p0 = 50.0\n",
    "p1 = 0.02\n",
    "p2 = 300"
   ]
  },
  {
   "cell_type": "code",
   "execution_count": 26,
   "id": "0e7e4921",
   "metadata": {},
   "outputs": [
    {
     "name": "stdout",
     "output_type": "stream",
     "text": [
      "\n",
      "# Fit parameters and parameter errors from curvefit method :\n",
      "pfit =  [7.77601039e+01 1.02182895e-01 3.13097356e+02]\n",
      "perr =  [3.64654639 0.01819393 3.73943733]\n"
     ]
    }
   ],
   "source": [
    "pstart = [ p0, p1, p2]\n",
    "\n",
    "pfit, perr = fit_curvefit(pstart, xdata, ydata, ff, y_err)\n",
    "\n",
    "print(\"\\n# Fit parameters and parameter errors from curvefit method :\")\n",
    "print(\"pfit = \", pfit)\n",
    "print(\"perr = \", perr)"
   ]
  },
  {
   "cell_type": "code",
   "execution_count": 23,
   "id": "96262e98",
   "metadata": {
    "scrolled": false
   },
   "outputs": [
    {
     "data": {
      "text/plain": [
       "[<matplotlib.lines.Line2D at 0x7efd74b1fef0>]"
      ]
     },
     "execution_count": 23,
     "metadata": {},
     "output_type": "execute_result"
    },
    {
     "data": {
      "image/png": "[encoded data removed]",
      "text/plain": [
       "<Figure size 432x288 with 1 Axes>"
      ]
     },
     "metadata": {
      "needs_background": "light"
     },
     "output_type": "display_data"
    }
   ],
   "source": [
    "p6 = 69.1\n",
    "p7 = 0.0388\n",
    "p8 = 287.9\n",
    "\n",
    "xvals = np.linspace(200.0, 450.0, 100)\n",
    "yval2 = f(xvals, p6, p7, p8)\n",
    "\n",
    "plt.plot(xdata, ydata, 'o', mfc='None')\n",
    "plt.plot(xvals, yval2)"
   ]
  },
  {
   "cell_type": "code",
   "execution_count": 8,
   "id": "6aa9d5e7",
   "metadata": {},
   "outputs": [],
   "source": [
    "def f( x, p0, p1, p2):\n",
    "    return p0/(1+np.exp(-p1*(x-p2)))\n",
    "\n",
    "def ff(x, p):\n",
    "    return f(x, *p)"
   ]
  },
  {
   "cell_type": "code",
   "execution_count": 5,
   "id": "2460b704",
   "metadata": {},
   "outputs": [],
   "source": [
    "def fit_curvefit(p0, datax, datay, function, err_y, **kwargs):\n",
    "    pfit, pcov = optimize.curve_fit(f, datax, datay, p0=p0, sigma=err_y, epsfcn=0.0001, **kwargs)\n",
    "    error = [] \n",
    "    for i in range(len(pfit)):\n",
    "        try:\n",
    "          error.append(np.absolute(pcov[i][i])**0.5)\n",
    "        except:\n",
    "          error.append( 0.00 )\n",
    "    pfit_curvefit = pfit\n",
    "    perr_curvefit = np.array(error)\n",
    "    return pfit_curvefit, perr_curvefit "
   ]
  },
  {
   "cell_type": "code",
   "execution_count": 20,
   "id": "f70a3d8e",
   "metadata": {},
   "outputs": [],
   "source": [
    "import numpy as np\n",
    "from scipy import optimize\n",
    "import matplotlib.pyplot as plt"
   ]
  },
  {
   "cell_type": "code",
   "execution_count": 1,
   "id": "eb2988b4",
   "metadata": {},
   "outputs": [],
   "source": [
    "xdata = [ 270, 280, 300, 310, 340, 370]\n",
    "ydata = [ 4.2608333, 1.8745833, 16.283333, 35.297917, 71.619833, 78.077708]\n",
    "y_err = [ 4.8032083, 2.7371542, 7.1282083, 22.217708, 12.79375, 8.8544167]"
   ]
  },
  {
   "cell_type": "code",
   "execution_count": 27,
   "id": "11800d99",
   "metadata": {},
   "outputs": [],
   "source": [
    "p0 = 77.748\n",
    "p1 = 0.07\n",
    "p2 = 313.348"
   ]
  },
  {
   "cell_type": "code",
   "execution_count": 28,
   "id": "a83b4c01",
   "metadata": {},
   "outputs": [
    {
     "name": "stdout",
     "output_type": "stream",
     "text": [
      "\n",
      "# Fit parameters and parameter errors from curvefit method :\n",
      "pfit =  [7.77610626e+01 1.02170524e-01 3.13099540e+02]\n",
      "perr =  [3.64681575 0.01818972 3.73982925]\n"
     ]
    }
   ],
   "source": [
    "pstart = [ p0, p1, p2]\n",
    "\n",
    "pfit, perr = fit_curvefit(pstart, xdata, ydata, ff, y_err)\n",
    "\n",
    "print(\"\\n# Fit parameters and parameter errors from curvefit method :\")\n",
    "print(\"pfit = \", pfit)\n",
    "print(\"perr = \", perr)"
   ]
  },
  {
   "cell_type": "code",
   "execution_count": 17,
   "id": "3cff362b",
   "metadata": {},
   "outputs": [
    {
     "name": "stderr",
     "output_type": "stream",
     "text": [
      "Matplotlib is building the font cache; this may take a moment.\n"
     ]
    }
   ],
   "source": [
    "import matplotlib.pyplot as plt"
   ]
  },
  {
   "cell_type": "code",
   "execution_count": 19,
   "id": "ed9fd3bf",
   "metadata": {},
   "outputs": [
    {
     "data": {
      "text/plain": [
       "[<matplotlib.lines.Line2D at 0x7efd74cb9160>]"
      ]
     },
     "execution_count": 19,
     "metadata": {},
     "output_type": "execute_result"
    },
    {
     "data": {
      "image/png": "[encoded data removed]",
      "text/plain": [
       "<Figure size 432x288 with 1 Axes>"
      ]
     },
     "metadata": {
      "needs_background": "light"
     },
     "output_type": "display_data"
    }
   ],
   "source": [
    "p3 = 77.76\n",
    "p4 = 0.10217\n",
    "p5 = 313.0997\n",
    "\n",
    "xvals = np.linspace(200.0, 450.0, 100)\n",
    "yvals = f(xvals, p3, p4, p5)\n",
    "\n",
    "plt.plot(xdata, ydata, 'o', mfc='None')\n",
    "plt.plot(xvals, yvals)"
   ]
  }
 ],
 "metadata": {
  "kernelspec": {
   "display_name": "Python 3 (ipykernel)",
   "language": "python",
   "name": "python3"
  },
  "language_info": {
   "codemirror_mode": {
    "name": "ipython",
    "version": 3
   },
   "file_extension": ".py",
   "mimetype": "text/x-python",
   "name": "python",
   "nbconvert_exporter": "python",
   "pygments_lexer": "ipython3",
   "version": "3.7.3"
  }
 },
 "nbformat": 4,
 "nbformat_minor": 5
}

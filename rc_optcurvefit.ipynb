{
 "cells": [
  {
   "cell_type": "code",
   "execution_count": 1,
   "id": "25495cce",
   "metadata": {},
   "outputs": [],
   "source": [
    "import numpy as np\n",
    "from scipy import optimize\n",
    "import matplotlib.pyplot as plt"
   ]
  },
  {
   "cell_type": "code",
   "execution_count": 2,
   "id": "4a26f1e7",
   "metadata": {},
   "outputs": [],
   "source": [
    "def f( x, p0, p1, p2):\n",
    "    return p0/(1+np.exp(-p1*(x-p2)))\n",
    "\n",
    "def ff(x, p):\n",
    "    return f(x, *p)"
   ]
  },
  {
   "cell_type": "code",
   "execution_count": 3,
   "id": "20110c6c",
   "metadata": {},
   "outputs": [],
   "source": [
    "def fit_curvefit(p0, datax, datay, function, err_y, **kwargs):\n",
    "    pfit, pcov = optimize.curve_fit(f, datax, datay, p0=p0, sigma=err_y, epsfcn=0.0001, **kwargs)\n",
    "    error = [] \n",
    "    for i in range(len(pfit)):\n",
    "        try:\n",
    "          error.append(np.absolute(pcov[i][i])**0.5)\n",
    "        except:\n",
    "          error.append( 0.00 )\n",
    "    pfit_curvefit = pfit\n",
    "    perr_curvefit = np.array(error)\n",
    "    return pfit_curvefit, perr_curvefit "
   ]
  },
  {
   "cell_type": "code",
   "execution_count": 4,
   "id": "e3ea4ef4",
   "metadata": {},
   "outputs": [],
   "source": [
    "xdata = [ 280, 300, 310, 340, 370]\n",
    "ydata = [ 20.74, 25.73, 30.44, 36.80, 41.52]\n",
    "y_err = [ 5.66, 8.26, 7.96, 8.91, 9.32]"
   ]
  },
  {
   "cell_type": "code",
   "execution_count": 5,
   "id": "4fc7e89d",
   "metadata": {},
   "outputs": [],
   "source": [
    "p0 = 50.0\n",
    "p1 = 0.02\n",
    "p2 = 300"
   ]
  },
  {
   "cell_type": "code",
   "execution_count": 6,
   "id": "5bb46049",
   "metadata": {},
   "outputs": [
    {
     "name": "stdout",
     "output_type": "stream",
     "text": [
      "\n",
      "# Fit parameters and parameter errors from curvefit method :\n",
      "pfit =  [4.62421601e+01 2.65734058e-02 2.88173268e+02]\n",
      "perr =  [3.06759550e+00 4.40409633e-03 5.24442127e+00]\n"
     ]
    }
   ],
   "source": [
    "pstart = [ p0, p1, p2]\n",
    "\n",
    "pfit, perr = fit_curvefit(pstart, xdata, ydata, ff, y_err)\n",
    "\n",
    "print(\"\\n# Fit parameters and parameter errors from curvefit method :\")\n",
    "print(\"pfit = \", pfit)\n",
    "print(\"perr = \", perr)"
   ]
  },
  {
   "cell_type": "code",
   "execution_count": 7,
   "id": "34df6677",
   "metadata": {},
   "outputs": [
    {
     "data": {
      "text/plain": [
       "[<matplotlib.lines.Line2D at 0x7f6116882a30>]"
      ]
     },
     "execution_count": 7,
     "metadata": {},
     "output_type": "execute_result"
    },
    {
     "data": {
      "image/png": "[encoded data removed]",
      "text/plain": [
       "<Figure size 432x288 with 1 Axes>"
      ]
     },
     "metadata": {
      "needs_background": "light"
     },
     "output_type": "display_data"
    }
   ],
   "source": [
    "p3 = 46.2\n",
    "p4 = 0.0266\n",
    "p5 = 288.2\n",
    "\n",
    "xvals = np.linspace(200.0, 450.0, 100)\n",
    "yvals = f(xvals, p3, p4, p5)\n",
    "\n",
    "plt.plot(xdata, ydata, 'o', mfc='None')\n",
    "plt.plot(xvals, yvals)"
   ]
  },
  {
   "cell_type": "code",
   "execution_count": 8,
   "id": "5aea4221",
   "metadata": {},
   "outputs": [],
   "source": [
    "xdata = [ 280, 300, 310, 340, 370]\n",
    "ydata = [ 29.46, 41.04, 49.34, 61.27, 66.23]\n",
    "y_err = [ 10.31, 17.91, 16.63, 14.40, 13.57]"
   ]
  },
  {
   "cell_type": "code",
   "execution_count": 9,
   "id": "fd5553f4",
   "metadata": {},
   "outputs": [],
   "source": [
    "p0 = 50.0\n",
    "p1 = 0.02\n",
    "p2 = 300"
   ]
  },
  {
   "cell_type": "code",
   "execution_count": 10,
   "id": "25572ee5",
   "metadata": {},
   "outputs": [
    {
     "name": "stdout",
     "output_type": "stream",
     "text": [
      "\n",
      "# Fit parameters and parameter errors from curvefit method :\n",
      "pfit =  [6.91375452e+01 3.88273695e-02 2.87937567e+02]\n",
      "perr =  [1.53774411 0.00317731 1.52180128]\n"
     ]
    }
   ],
   "source": [
    "pstart = [ p0, p1, p2]\n",
    "\n",
    "pfit, perr = fit_curvefit(pstart, xdata, ydata, ff, y_err)\n",
    "\n",
    "print(\"\\n# Fit parameters and parameter errors from curvefit method :\")\n",
    "print(\"pfit = \", pfit)\n",
    "print(\"perr = \", perr)"
   ]
  },
  {
   "cell_type": "code",
   "execution_count": 11,
   "id": "88cd8168",
   "metadata": {},
   "outputs": [
    {
     "data": {
      "text/plain": [
       "[<matplotlib.lines.Line2D at 0x7f6116786850>]"
      ]
     },
     "execution_count": 11,
     "metadata": {},
     "output_type": "execute_result"
    },
    {
     "data": {
      "image/png": "[encoded data removed]",
      "text/plain": [
       "<Figure size 432x288 with 1 Axes>"
      ]
     },
     "metadata": {
      "needs_background": "light"
     },
     "output_type": "display_data"
    }
   ],
   "source": [
    "p6 = 69.1\n",
    "p7 = 0.0388\n",
    "p8 = 287.9\n",
    "\n",
    "xvals = np.linspace(200.0, 450.0, 100)\n",
    "yval2 = f(xvals, p6, p7, p8)\n",
    "\n",
    "plt.plot(xdata, ydata, 'o', mfc='None')\n",
    "plt.plot(xvals, yval2)"
   ]
  },
  {
   "cell_type": "code",
   "execution_count": 2,
   "id": "1e7999eb",
   "metadata": {},
   "outputs": [],
   "source": [
    "xdata = [ 270, 280, 300, 310, 340, 370]\n",
    "ydata = [ 7.6867917, 6.0412917, 17.697292, 28.392667, 52.572917, 61.664167]\n",
    "y_err = [ 4.0916542, 2.7371542, 4.6184167, 12.1035, 11.5805, 10.121458]"
   ]
  },
  {
   "cell_type": "code",
   "execution_count": 3,
   "id": "8eabb29e",
   "metadata": {},
   "outputs": [],
   "source": [
    "p0 = 64\n",
    "p1 = 0.07\n",
    "p2 = 314"
   ]
  },
  {
   "cell_type": "code",
   "execution_count": 5,
   "id": "608d33c2",
   "metadata": {},
   "outputs": [],
   "source": [
    "def f( x, p0, p1, p2):\n",
    "    return p0/(1+np.exp(-p1*(x-p2)))\n",
    "\n",
    "def ff(x, p):\n",
    "    return f(x, *p)"
   ]
  },
  {
   "cell_type": "code",
   "execution_count": 7,
   "id": "769fa0e2",
   "metadata": {},
   "outputs": [],
   "source": [
    "def fit_curvefit(p0, datax, datay, function, err_y, **kwargs):\n",
    "    pfit, pcov = optimize.curve_fit(f, datax, datay, p0=p0, sigma=err_y, epsfcn=0.0001, **kwargs)\n",
    "    error = [] \n",
    "    for i in range(len(pfit)):\n",
    "        try:\n",
    "          error.append(np.absolute(pcov[i][i])**0.5)\n",
    "        except:\n",
    "          error.append( 0.00 )\n",
    "    pfit_curvefit = pfit\n",
    "    perr_curvefit = np.array(error)\n",
    "    return pfit_curvefit, perr_curvefit "
   ]
  },
  {
   "cell_type": "code",
   "execution_count": 9,
   "id": "8e9d6023",
   "metadata": {},
   "outputs": [],
   "source": [
    "import numpy as np\n",
    "from scipy import optimize\n",
    "import matplotlib.pyplot as plt"
   ]
  },
  {
   "cell_type": "code",
   "execution_count": 11,
   "id": "76ff61ed",
   "metadata": {},
   "outputs": [
    {
     "name": "stdout",
     "output_type": "stream",
     "text": [
      "\n",
      "# Fit parameters and parameter errors from curvefit method :\n",
      "pfit =  [6.54951896e+01 5.64264246e-02 3.17179985e+02]\n",
      "perr =  [7.41878478 0.01020058 7.1369131 ]\n"
     ]
    }
   ],
   "source": [
    "pstart = [ p0, p1, p2]\n",
    "\n",
    "pfit, perr = fit_curvefit(pstart, xdata, ydata, ff, y_err)\n",
    "\n",
    "print(\"\\n# Fit parameters and parameter errors from curvefit method :\")\n",
    "print(\"pfit = \", pfit)\n",
    "print(\"perr = \", perr)"
   ]
  },
  {
   "cell_type": "code",
   "execution_count": 12,
   "id": "01651c8b",
   "metadata": {},
   "outputs": [
    {
     "data": {
      "text/plain": [
       "[<matplotlib.lines.Line2D at 0x7fb61206c470>]"
      ]
     },
     "execution_count": 12,
     "metadata": {},
     "output_type": "execute_result"
    },
    {
     "data": {
      "image/png": "[encoded data removed]",
      "text/plain": [
       "<Figure size 432x288 with 1 Axes>"
      ]
     },
     "metadata": {
      "needs_background": "light"
     },
     "output_type": "display_data"
    }
   ],
   "source": [
    "p6 = 65.5\n",
    "p7 = 0.0564\n",
    "p8 = 317.18\n",
    "\n",
    "xvals = np.linspace(200.0, 450.0, 100)\n",
    "yval2 = f(xvals, p6, p7, p8)\n",
    "\n",
    "plt.plot(xdata, ydata, 'o', mfc='None')\n",
    "plt.plot(xvals, yval2)"
   ]
  },
  {
   "cell_type": "code",
   "execution_count": 13,
   "id": "8a6cbaef",
   "metadata": {},
   "outputs": [],
   "source": [
    "xdata = [ 270, 280, 300, 310, 340, 370]\n",
    "ydata = [ 4.2608333, 1.8745833, 16.283333, 35.297917, 71.619833, 78.077708]\n",
    "y_err = [ 4.8032083, 2.7371542, 7.1282083, 22.217708, 12.79375, 8.8544167]"
   ]
  },
  {
   "cell_type": "code",
   "execution_count": 14,
   "id": "e56fcbbb",
   "metadata": {},
   "outputs": [],
   "source": [
    "p0 = 77\n",
    "p1 = 0.099\n",
    "p2 = 313"
   ]
  },
  {
   "cell_type": "code",
   "execution_count": 15,
   "id": "7bd4d1dd",
   "metadata": {},
   "outputs": [
    {
     "name": "stdout",
     "output_type": "stream",
     "text": [
      "\n",
      "# Fit parameters and parameter errors from curvefit method :\n",
      "pfit =  [7.77601218e+01 1.02183911e-01 3.13097407e+02]\n",
      "perr =  [3.64654026 0.01819439 3.73945239]\n"
     ]
    }
   ],
   "source": [
    "pstart = [ p0, p1, p2]\n",
    "\n",
    "pfit, perr = fit_curvefit(pstart, xdata, ydata, ff, y_err)\n",
    "\n",
    "print(\"\\n# Fit parameters and parameter errors from curvefit method :\")\n",
    "print(\"pfit = \", pfit)\n",
    "print(\"perr = \", perr)"
   ]
  },
  {
   "cell_type": "code",
   "execution_count": 16,
   "id": "c2dc9133",
   "metadata": {
    "scrolled": true
   },
   "outputs": [
    {
     "data": {
      "text/plain": [
       "[<matplotlib.lines.Line2D at 0x7fb607c7db00>]"
      ]
     },
     "execution_count": 16,
     "metadata": {},
     "output_type": "execute_result"
    },
    {
     "data": {
      "image/png": "[encoded data removed]",
      "text/plain": [
       "<Figure size 432x288 with 1 Axes>"
      ]
     },
     "metadata": {
      "needs_background": "light"
     },
     "output_type": "display_data"
    }
   ],
   "source": [
    "p6 = 77.76\n",
    "p7 = 0.1022\n",
    "p8 = 313.1\n",
    "\n",
    "xvals = np.linspace(200.0, 450.0, 100)\n",
    "yval2 = f(xvals, p6, p7, p8)\n",
    "\n",
    "plt.plot(xdata, ydata, 'o', mfc='None')\n",
    "plt.plot(xvals, yval2)"
   ]
  },
  {
   "cell_type": "code",
   "execution_count": 1,
   "id": "146eb865",
   "metadata": {},
   "outputs": [],
   "source": [
    "import numpy as np\n",
    "from scipy import optimize\n",
    "import matplotlib.pyplot as plt"
   ]
  },
  {
   "cell_type": "code",
   "execution_count": 2,
   "id": "d1e30e01",
   "metadata": {},
   "outputs": [],
   "source": [
    "def f( x, p0, p1, p2):\n",
    "    return p0/(1+np.exp(-p1*(x-p2)))\n",
    "\n",
    "def ff(x, p):\n",
    "    return f(x, *p)"
   ]
  },
  {
   "cell_type": "code",
   "execution_count": 3,
   "id": "475cdbee",
   "metadata": {},
   "outputs": [],
   "source": [
    "def fit_curvefit(p0, datax, datay, function, err_y, **kwargs):\n",
    "    pfit, pcov = optimize.curve_fit(f, datax, datay, p0=p0, sigma=err_y, epsfcn=0.0001, **kwargs)\n",
    "    error = [] \n",
    "    for i in range(len(pfit)):\n",
    "        try:\n",
    "          error.append(np.absolute(pcov[i][i])**0.5)\n",
    "        except:\n",
    "          error.append( 0.00 )\n",
    "    pfit_curvefit = pfit\n",
    "    perr_curvefit = np.array(error)\n",
    "    return pfit_curvefit, perr_curvefit "
   ]
  },
  {
   "cell_type": "code",
   "execution_count": 4,
   "id": "d3138c66",
   "metadata": {},
   "outputs": [],
   "source": [
    "xdata = [ 270, 280, 300, 310, 340, 370]\n",
    "ydata = [ 7.009, 5.945875, 17.9126666666667, 27.41325, 52.25875, 62.4541666666667]\n",
    "y_err = [ 3.77854166666667, 2.77975416666667, 5.25808333333333, 10.5608333333333, 11.7025416666667, 10.0208333333333]"
   ]
  },
  {
   "cell_type": "code",
   "execution_count": 5,
   "id": "f428cfcb",
   "metadata": {},
   "outputs": [],
   "source": [
    "p0 = 62.5\n",
    "p1 = 0.0638\n",
    "p2 = 313"
   ]
  },
  {
   "cell_type": "code",
   "execution_count": 6,
   "id": "546ad9d6",
   "metadata": {
    "scrolled": true
   },
   "outputs": [
    {
     "name": "stdout",
     "output_type": "stream",
     "text": [
      "\n",
      "# Fit parameters and parameter errors from curvefit method :\n",
      "pfit =  [6.61335556e+01 5.62871867e-02 3.17535736e+02]\n",
      "perr =  [6.63876808 0.00889951 6.41328428]\n"
     ]
    }
   ],
   "source": [
    "pstart = [ p0, p1, p2]\n",
    "\n",
    "pfit, perr = fit_curvefit(pstart, xdata, ydata, ff, y_err)\n",
    "\n",
    "print(\"\\n# Fit parameters and parameter errors from curvefit method :\")\n",
    "print(\"pfit = \", pfit)\n",
    "print(\"perr = \", perr)"
   ]
  },
  {
   "cell_type": "code",
   "execution_count": 8,
   "id": "834cfc55",
   "metadata": {},
   "outputs": [
    {
     "data": {
      "text/plain": [
       "[<matplotlib.lines.Line2D at 0x7f890995a358>]"
      ]
     },
     "execution_count": 8,
     "metadata": {},
     "output_type": "execute_result"
    },
    {
     "data": {
      "image/png": "[encoded data removed]",
      "text/plain": [
       "<Figure size 432x288 with 1 Axes>"
      ]
     },
     "metadata": {
      "needs_background": "light"
     },
     "output_type": "display_data"
    }
   ],
   "source": [
    "p6 = 66.13\n",
    "p7 = 0.056287\n",
    "p8 = 317.5\n",
    "\n",
    "xvals = np.linspace(200.0, 450.0, 100)\n",
    "yval2 = f(xvals, p6, p7, p8)\n",
    "\n",
    "plt.plot(xdata, ydata, 'o', mfc='None')\n",
    "plt.plot(xvals, yval2)"
   ]
  },
  {
   "cell_type": "code",
   "execution_count": 9,
   "id": "27d828f4",
   "metadata": {},
   "outputs": [],
   "source": [
    "xdata = [ 270, 280, 300, 310, 340, 370]\n",
    "ydata = [ 3.47708333333333, 1.78333333333334, 16.1133333333333, 31.5216666666667, 70.5792083333333, 79.0870833333333]\n",
    "y_err = [ 4.61125, 2.79266666666667, 7.03475, 19.0742083333333, 12.985625, 8.07791666666667]"
   ]
  },
  {
   "cell_type": "code",
   "execution_count": 10,
   "id": "7cd9d35e",
   "metadata": {},
   "outputs": [],
   "source": [
    "p0 = 79\n",
    "p1 = 0.087\n",
    "p2 = 315"
   ]
  },
  {
   "cell_type": "code",
   "execution_count": 11,
   "id": "c5b4ee15",
   "metadata": {},
   "outputs": [
    {
     "name": "stdout",
     "output_type": "stream",
     "text": [
      "\n",
      "# Fit parameters and parameter errors from curvefit method :\n",
      "pfit =  [7.88502200e+01 9.68478257e-02 3.14678520e+02]\n",
      "perr =  [3.02766837 0.01392478 3.22487105]\n"
     ]
    }
   ],
   "source": [
    "pstart = [ p0, p1, p2]\n",
    "\n",
    "pfit, perr = fit_curvefit(pstart, xdata, ydata, ff, y_err)\n",
    "\n",
    "print(\"\\n# Fit parameters and parameter errors from curvefit method :\")\n",
    "print(\"pfit = \", pfit)\n",
    "print(\"perr = \", perr)"
   ]
  },
  {
   "cell_type": "code",
   "execution_count": 12,
   "id": "fef6e31e",
   "metadata": {},
   "outputs": [
    {
     "data": {
      "text/plain": [
       "[<matplotlib.lines.Line2D at 0x7f89098dba58>]"
      ]
     },
     "execution_count": 12,
     "metadata": {},
     "output_type": "execute_result"
    },
    {
     "data": {
      "image/png": "[encoded data removed]",
      "text/plain": [
       "<Figure size 432x288 with 1 Axes>"
      ]
     },
     "metadata": {
      "needs_background": "light"
     },
     "output_type": "display_data"
    }
   ],
   "source": [
    "p6 = 78.85\n",
    "p7 = 0.0968\n",
    "p8 = 314.7\n",
    "\n",
    "xvals = np.linspace(200.0, 450.0, 100)\n",
    "yval2 = f(xvals, p6, p7, p8)\n",
    "\n",
    "plt.plot(xdata, ydata, 'o', mfc='None')\n",
    "plt.plot(xvals, yval2)"
   ]
  },
  {
   "cell_type": "code",
   "execution_count": 14,
   "id": "ae01c37c",
   "metadata": {},
   "outputs": [],
   "source": [
    "import numpy as np\n",
    "from scipy import optimize\n",
    "import matplotlib.pyplot as plt"
   ]
  },
  {
   "cell_type": "code",
   "execution_count": 15,
   "id": "b62f69da",
   "metadata": {},
   "outputs": [],
   "source": [
    "from scipy import optimize"
   ]
  },
  {
   "cell_type": "code",
   "execution_count": 16,
   "id": "0facd436",
   "metadata": {},
   "outputs": [],
   "source": [
    "def f( x, p0, p1, p2):\n",
    "    return p0/(1+np.exp(-p1*(x-p2)))\n",
    "\n",
    "def ff(x, p):\n",
    "    return f(x, *p)"
   ]
  },
  {
   "cell_type": "code",
   "execution_count": 17,
   "id": "2eb467c7",
   "metadata": {},
   "outputs": [],
   "source": [
    "def fit_curvefit(p0, datax, datay, function, err_y, **kwargs):\n",
    "    pfit, pcov = optimize.curve_fit(f, datax, datay, p0=p0, sigma=err_y, epsfcn=0.0001, **kwargs)\n",
    "    error = [] \n",
    "    for i in range(len(pfit)):\n",
    "        try:\n",
    "          error.append(np.absolute(pcov[i][i])**0.5)\n",
    "        except:\n",
    "          error.append( 0.00 )\n",
    "    pfit_curvefit = pfit\n",
    "    perr_curvefit = np.array(error)\n",
    "    return pfit_curvefit, perr_curvefit "
   ]
  },
  {
   "cell_type": "code",
   "execution_count": 18,
   "id": "155f0415",
   "metadata": {},
   "outputs": [],
   "source": [
    "xdata = [ 270, 280, 300, 310, 340, 370]\n",
    "ydata = [ 14.4166666666667, 20, 66.791666666666, 71.416666666666, 79.08333333333, 82.55]\n",
    "y_err = [ 7.91666666666667, 8.29166666666667, 10.0833333333333, 8.54166666666667, 8, 3.54166666666667]"
   ]
  },
  {
   "cell_type": "code",
   "execution_count": 19,
   "id": "ad7cd432",
   "metadata": {},
   "outputs": [],
   "source": [
    "p0 = 80\n",
    "p1 = 0.108\n",
    "p2 = 288"
   ]
  },
  {
   "cell_type": "code",
   "execution_count": 20,
   "id": "735cbc1a",
   "metadata": {},
   "outputs": [
    {
     "name": "stdout",
     "output_type": "stream",
     "text": [
      "\n",
      "# Fit parameters and parameter errors from curvefit method :\n",
      "pfit =  [8.20391171e+01 1.01780734e-01 2.88677227e+02]\n",
      "perr =  [1.72552519 0.01462139 1.94552319]\n"
     ]
    }
   ],
   "source": [
    "pstart = [ p0, p1, p2]\n",
    "\n",
    "pfit, perr = fit_curvefit(pstart, xdata, ydata, ff, y_err)\n",
    "\n",
    "print(\"\\n# Fit parameters and parameter errors from curvefit method :\")\n",
    "print(\"pfit = \", pfit)\n",
    "print(\"perr = \", perr)"
   ]
  },
  {
   "cell_type": "code",
   "execution_count": 21,
   "id": "8a44287d",
   "metadata": {},
   "outputs": [
    {
     "data": {
      "text/plain": [
       "[<matplotlib.lines.Line2D at 0x7f6218cf1940>]"
      ]
     },
     "execution_count": 21,
     "metadata": {},
     "output_type": "execute_result"
    },
    {
     "data": {
      "image/png": "[encoded data removed]",
      "text/plain": [
       "<Figure size 432x288 with 1 Axes>"
      ]
     },
     "metadata": {
      "needs_background": "light"
     },
     "output_type": "display_data"
    }
   ],
   "source": [
    "p6 = 82.04\n",
    "p7 = 0.1018\n",
    "p8 = 288.7\n",
    "\n",
    "xvals = np.linspace(200.0, 450.0, 100)\n",
    "yval2 = f(xvals, p6, p7, p8)\n",
    "\n",
    "plt.plot(xdata, ydata, 'o', mfc='None')\n",
    "plt.plot(xvals, yval2)"
   ]
  },
  {
   "cell_type": "code",
   "execution_count": 22,
   "id": "b839aa37",
   "metadata": {},
   "outputs": [],
   "source": [
    "xdata = [ 270, 280, 300, 310, 340, 370]\n",
    "ydata = [ 11.75, 19.4375, 80.625, 82.75, 86.8333333333333, 88.125]\n",
    "y_err = [ 4.51666666666667, 11.9166666666667, 6.375, 7.45833333333333, 4.5, 4]"
   ]
  },
  {
   "cell_type": "code",
   "execution_count": 23,
   "id": "73cc09c8",
   "metadata": {},
   "outputs": [],
   "source": [
    "p0 = 87\n",
    "p1 = 0.15\n",
    "p2 = 288"
   ]
  },
  {
   "cell_type": "code",
   "execution_count": 24,
   "id": "01716143",
   "metadata": {},
   "outputs": [
    {
     "name": "stdout",
     "output_type": "stream",
     "text": [
      "\n",
      "# Fit parameters and parameter errors from curvefit method :\n",
      "pfit =  [8.76355857e+01 1.38732980e-01 2.84964895e+02]\n",
      "perr =  [1.82489932 0.01857904 1.84682664]\n"
     ]
    }
   ],
   "source": [
    "pstart = [ p0, p1, p2]\n",
    "\n",
    "pfit, perr = fit_curvefit(pstart, xdata, ydata, ff, y_err)\n",
    "\n",
    "print(\"\\n# Fit parameters and parameter errors from curvefit method :\")\n",
    "print(\"pfit = \", pfit)\n",
    "print(\"perr = \", perr)"
   ]
  },
  {
   "cell_type": "code",
   "execution_count": 25,
   "id": "6313b6c8",
   "metadata": {},
   "outputs": [
    {
     "data": {
      "text/plain": [
       "[<matplotlib.lines.Line2D at 0x7f620e98f390>]"
      ]
     },
     "execution_count": 25,
     "metadata": {},
     "output_type": "execute_result"
    },
    {
     "data": {
      "image/png": "[encoded data removed]",
      "text/plain": [
       "<Figure size 432x288 with 1 Axes>"
      ]
     },
     "metadata": {
      "needs_background": "light"
     },
     "output_type": "display_data"
    }
   ],
   "source": [
    "p6 = 87.6\n",
    "p7 = 0.139\n",
    "p8 = 285\n",
    "\n",
    "xvals = np.linspace(200.0, 450.0, 100)\n",
    "yval2 = f(xvals, p6, p7, p8)\n",
    "\n",
    "plt.plot(xdata, ydata, 'o', mfc='None')\n",
    "plt.plot(xvals, yval2)"
   ]
  },
  {
   "cell_type": "code",
   "execution_count": null,
   "id": "dc947077",
   "metadata": {},
   "outputs": [],
   "source": []
  }
 ],
 "metadata": {
  "kernelspec": {
   "display_name": "Python 3 (ipykernel)",
   "language": "python",
   "name": "python3"
  },
  "language_info": {
   "codemirror_mode": {
    "name": "ipython",
    "version": 3
   },
   "file_extension": ".py",
   "mimetype": "text/x-python",
   "name": "python",
   "nbconvert_exporter": "python",
   "pygments_lexer": "ipython3",
   "version": "3.7.3"
  }
 },
 "nbformat": 4,
 "nbformat_minor": 5
}
